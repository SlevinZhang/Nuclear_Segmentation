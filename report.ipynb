{
 "cells": [
  {
   "cell_type": "code",
   "execution_count": 1,
   "metadata": {
    "collapsed": true
   },
   "outputs": [],
   "source": [
    "import xml.etree.ElementTree as ET\n",
    "import cv2\n",
    "import matplotlib.pyplot as plt\n",
    "import numpy as np\n",
    "from PIL import Image, ImageDraw\n",
    "import glob\n",
    "import os"
   ]
  },
  {
   "cell_type": "code",
   "execution_count": 4,
   "metadata": {
    "collapsed": true
   },
   "outputs": [],
   "source": [
    "root_image_path = './dataset/Tissue_images/'\n",
    "root_jpeg_path = './dataset/jpeg_images/'\n",
    "root_mask_path = './dataset/Mask/'\n",
    "root_bin_mask_path = './dataset/binMask/'\n",
    "root_int_bin_mask_path = './dataset/intBinMask/'\n",
    "annotation_path = './dataset/Annotations/'"
   ]
  },
  {
   "cell_type": "code",
   "execution_count": 17,
   "metadata": {
    "collapsed": true
   },
   "outputs": [],
   "source": [
    "#Convert image from tiff to jpeg\n",
    "filenames = glob.glob(root_image_path + '*.tif') + glob.glob(root_image_path + '*.tiff')\n",
    "for filename in filenames:\n",
    "    img = cv2.imread(filename)\n",
    "    basename = os.path.basename(filename).split('.')[0]\n",
    "    cv2.imwrite(root_jpeg_path + basename + '.jpeg',img)"
   ]
  },
  {
   "cell_type": "code",
   "execution_count": 5,
   "metadata": {},
   "outputs": [
    {
     "name": "stdout",
     "output_type": "stream",
     "text": [
      "./dataset/Annotations\\TCGA-18-5592-01Z-00-DX1.xml\n",
      "./dataset/Annotations\\TCGA-21-5784-01Z-00-DX1.xml\n",
      "./dataset/Annotations\\TCGA-21-5786-01Z-00-DX1.xml\n",
      "./dataset/Annotations\\TCGA-38-6178-01Z-00-DX1.xml\n",
      "./dataset/Annotations\\TCGA-49-4488-01Z-00-DX1.xml\n",
      "./dataset/Annotations\\TCGA-50-5931-01Z-00-DX1.xml\n",
      "./dataset/Annotations\\TCGA-A7-A13E-01Z-00-DX1.xml\n",
      "./dataset/Annotations\\TCGA-A7-A13F-01Z-00-DX1.xml\n",
      "./dataset/Annotations\\TCGA-AR-A1AK-01Z-00-DX1.xml\n",
      "./dataset/Annotations\\TCGA-AR-A1AS-01Z-00-DX1.xml\n",
      "./dataset/Annotations\\TCGA-AY-A8YK-01A-01-TS1.xml\n",
      "./dataset/Annotations\\TCGA-B0-5698-01Z-00-DX1.xml\n",
      "./dataset/Annotations\\TCGA-B0-5710-01Z-00-DX1.xml\n",
      "./dataset/Annotations\\TCGA-B0-5711-01Z-00-DX1.xml\n",
      "./dataset/Annotations\\TCGA-CH-5767-01Z-00-DX1.xml\n",
      "./dataset/Annotations\\TCGA-DK-A2I6-01A-01-TS1.xml\n",
      "./dataset/Annotations\\TCGA-E2-A14V-01Z-00-DX1.xml\n",
      "./dataset/Annotations\\TCGA-E2-A1B5-01Z-00-DX1.xml\n",
      "./dataset/Annotations\\TCGA-G2-A2EK-01A-02-TSB.xml\n",
      "./dataset/Annotations\\TCGA-G9-6336-01Z-00-DX1.xml\n",
      "./dataset/Annotations\\TCGA-G9-6348-01Z-00-DX1.xml\n",
      "./dataset/Annotations\\TCGA-G9-6356-01Z-00-DX1.xml\n",
      "./dataset/Annotations\\TCGA-G9-6362-01Z-00-DX1.xml\n",
      "./dataset/Annotations\\TCGA-G9-6363-01Z-00-DX1.xml\n",
      "./dataset/Annotations\\TCGA-HE-7128-01Z-00-DX1.xml\n",
      "./dataset/Annotations\\TCGA-HE-7129-01Z-00-DX1.xml\n",
      "./dataset/Annotations\\TCGA-HE-7130-01Z-00-DX1.xml\n",
      "./dataset/Annotations\\TCGA-KB-A93J-01A-01-TS1.xml\n",
      "./dataset/Annotations\\TCGA-NH-A8F7-01A-01-TS1.xml\n",
      "./dataset/Annotations\\TCGA-RD-A8N9-01A-01-TS1.xml\n"
     ]
    }
   ],
   "source": [
    "#Generate a 3 class mask\n",
    "mask_filenames = glob.glob(annotation_path + '*.xml')\n",
    "for filename in mask_filenames:\n",
    "    print(filename)\n",
    "    tree = ET.parse(filename)\n",
    "    base_name = os.path.basename(filename).split('.')[0]\n",
    "    image_filename = root_jpeg_path + base_name + '.jpeg'\n",
    "    img_pil = Image.open(image_filename)\n",
    "\n",
    "    inside_pil = Image.new('1',size=img_pil.size)\n",
    "    boundary_pil = Image.new('1',size=img_pil.size)\n",
    "    for vertice in tree.iter('Vertices'):\n",
    "        point_pairs = []\n",
    "    \n",
    "        for child in vertice:\n",
    "            x = float(child.attrib['X'])\n",
    "            y = float(child.attrib['Y'])\n",
    "            point_pairs.append((int(x),int(y)))\n",
    "\n",
    "        draw_inside = ImageDraw.Draw(inside_pil)\n",
    "        draw_boundary = ImageDraw.Draw(boundary_pil)\n",
    "        draw_inside.polygon(point_pairs,outline=0,fill=1)\n",
    "        draw_boundary.line(point_pairs,fill=1)\n",
    "        \n",
    "#     inside_pil.save(root_mask_path + base_name + '_mask_inside.jpeg',format='JPEG')\n",
    "#     boundary_pil.save(root_mask_path + base_name + '_mask_bound.jpeg',format='JPEG')\n",
    "    inside_pil.save(root_int_bin_mask_path + base_name + '_mask_inside.bmp')\n",
    "    boundary_pil.save(root_int_bin_mask_path + base_name + '_mask_bound.bmp')"
   ]
  },
  {
   "cell_type": "code",
   "execution_count": 6,
   "metadata": {},
   "outputs": [
    {
     "name": "stdout",
     "output_type": "stream",
     "text": [
      "1.5 2.5\n"
     ]
    }
   ],
   "source": [
    "xx = [(1,2),(2,3)]\n",
    "x = 0\n",
    "y = 0\n",
    "for point in xx:\n",
    "    x += point[0]\n",
    "    y += point[1]\n",
    "x = x/len(xx)\n",
    "y = y/len(xx)\n",
    "print(x,y)"
   ]
  },
  {
   "cell_type": "code",
   "execution_count": 22,
   "metadata": {},
   "outputs": [
    {
     "name": "stdout",
     "output_type": "stream",
     "text": [
      "./dataset/jpeg_images\\TCGA-18-5592-01Z-00-DX1.jpeg\n",
      "./dataset/jpeg_images\\TCGA-21-5784-01Z-00-DX1.jpeg\n",
      "./dataset/jpeg_images\\TCGA-21-5786-01Z-00-DX1.jpeg\n",
      "./dataset/jpeg_images\\TCGA-38-6178-01Z-00-DX1.jpeg\n",
      "./dataset/jpeg_images\\TCGA-49-4488-01Z-00-DX1.jpeg\n",
      "./dataset/jpeg_images\\TCGA-50-5931-01Z-00-DX1.jpeg\n",
      "./dataset/jpeg_images\\TCGA-A7-A13E-01Z-00-DX1.jpeg\n",
      "./dataset/jpeg_images\\TCGA-A7-A13F-01Z-00-DX1.jpeg\n",
      "./dataset/jpeg_images\\TCGA-AR-A1AK-01Z-00-DX1.jpeg\n",
      "./dataset/jpeg_images\\TCGA-AR-A1AS-01Z-00-DX1.jpeg\n",
      "./dataset/jpeg_images\\TCGA-AY-A8YK-01A-01-TS1.jpeg\n",
      "./dataset/jpeg_images\\TCGA-B0-5698-01Z-00-DX1.jpeg\n",
      "./dataset/jpeg_images\\TCGA-B0-5710-01Z-00-DX1.jpeg\n",
      "./dataset/jpeg_images\\TCGA-B0-5711-01Z-00-DX1.jpeg\n",
      "./dataset/jpeg_images\\TCGA-CH-5767-01Z-00-DX1.jpeg\n",
      "./dataset/jpeg_images\\TCGA-DK-A2I6-01A-01-TS1.jpeg\n",
      "./dataset/jpeg_images\\TCGA-E2-A14V-01Z-00-DX1.jpeg\n",
      "./dataset/jpeg_images\\TCGA-E2-A1B5-01Z-00-DX1.jpeg\n",
      "./dataset/jpeg_images\\TCGA-G2-A2EK-01A-02-TSB.jpeg\n",
      "./dataset/jpeg_images\\TCGA-G9-6336-01Z-00-DX1.jpeg\n",
      "./dataset/jpeg_images\\TCGA-G9-6348-01Z-00-DX1.jpeg\n",
      "./dataset/jpeg_images\\TCGA-G9-6356-01Z-00-DX1.jpeg\n",
      "./dataset/jpeg_images\\TCGA-G9-6362-01Z-00-DX1.jpeg\n",
      "./dataset/jpeg_images\\TCGA-G9-6363-01Z-00-DX1.jpeg\n",
      "./dataset/jpeg_images\\TCGA-HE-7128-01Z-00-DX1.jpeg\n",
      "./dataset/jpeg_images\\TCGA-HE-7129-01Z-00-DX1.jpeg\n",
      "./dataset/jpeg_images\\TCGA-HE-7130-01Z-00-DX1.jpeg\n",
      "./dataset/jpeg_images\\TCGA-KB-A93J-01A-01-TS1.jpeg\n",
      "./dataset/jpeg_images\\TCGA-NH-A8F7-01A-01-TS1.jpeg\n",
      "./dataset/jpeg_images\\TCGA-RD-A8N9-01A-01-TS1.jpeg\n"
     ]
    }
   ],
   "source": [
    "#Separate into training and testing dataset\n",
    "import shutil\n",
    "filenames = glob.glob(root_jpeg_path + '*.jpeg')\n",
    "index = 0\n",
    "for filename in filenames:\n",
    "    print(filename)\n",
    "    basename = os.path.basename(filename).split('.')[0]\n",
    "    if index < 24:\n",
    "        shutil.copy(filename,'./dataset/train_images/' + basename + '.jpeg')\n",
    "        shutil.copy(root_mask_path + basename + '_mask_inside.jpeg', './dataset/train_masks/' + basename + '_mask_inside.jpeg')\n",
    "        shutil.copy(root_mask_path + basename + '_mask_bound.jpeg', './dataset/train_masks/' + basename + '_mask_bound.jpeg')\n",
    "    else:\n",
    "        shutil.copy(filename,'./dataset/test_images/' + basename + '.jpeg')\n",
    "        shutil.copy(root_mask_path + basename + '_mask_inside.jpeg', './dataset/test_masks/' + basename + '_mask_inside.jpeg')\n",
    "        shutil.copy(root_mask_path + basename + '_mask_bound.jpeg', './dataset/test_masks/' + basename + '_mask_bound.jpeg')\n",
    "    index += 1"
   ]
  },
  {
   "cell_type": "code",
   "execution_count": 3,
   "metadata": {},
   "outputs": [
    {
     "name": "stdout",
     "output_type": "stream",
     "text": [
      "original image: TCGA-18-5592-01Z-00-DX1.jpeg\n"
     ]
    }
   ],
   "source": [
    "#save to hdf5\n",
    "def generate_ternary_masks(inside_mask, boundary_mask):\n",
    "    '''\n",
    "    :param mask_name: the filename of mask\n",
    "    :return:\n",
    "        a ndarray mask with same size\n",
    "        '0': represent background\n",
    "        '1': represent inside\n",
    "        '2': represent boundary\n",
    "    '''\n",
    "    boundary = Image.open(boundary_mask)\n",
    "#     boundary.show()\n",
    "#     boundary.convert('1')\n",
    "#     boundary.show()\n",
    "    inside = Image.open(inside_mask)\n",
    "    inside.show()\n",
    "#     inside.show()\n",
    "    width,height = boundary.size[0],boundary.size[1]\n",
    "    mask = np.empty((height,width),dtype=int)\n",
    "    for y in range(height):\n",
    "        if y % 100 == 0:\n",
    "            print(y)\n",
    "        for x in range(width):\n",
    "            if boundary.getpixel((x,y)) >= 1:\n",
    "                mask[height-y-1,x] = 0\n",
    "            elif inside.getpixel((x,y)) >= 1:                \n",
    "                mask[height-y-1,x] = 1\n",
    "            else:\n",
    "                mask[height-y-1,x] = 0\n",
    "    return mask\n",
    "image_filenames = './dataset/jpeg_images/TCGA-18-5592-01Z-00-DX1.jpeg'\n",
    "inside_mask = './dataset/intBinMask/' + basename.split('.')[0] + '_mask_inside.bmp'\n",
    "basename = os.path.basename(image_filenames)\n",
    "print(\"original image: \" + basename)\n",
    "img = Image.open(image_filenames)\n",
    "mask = Image.open(inside_mask)\n",
    "img_arr = np.asarray(img)\n",
    "mask_arr = np.asarray(mask)\n",
    "restored_img = Image.fromarray(img_arr,'RGB')\n",
    "restored_mask = Image.fromarray(mask_arr,'1')\n",
    "# restored_img.show()\n",
    "restored_mask.show()\n",
    "\n",
    "# inside_mask = './dataset/intBinMask/' + basename.split('.')[0] + '_mask_inside.jpeg'\n",
    "# boundary_mask = './dataset/intBinMask/' + basename.split('.')[0] + '_mask_bound.jpeg'\n",
    "# mask = generate_ternary_masks(inside_mask,boundary_mask)\n",
    "# print(\"The shape of mask: {}\".format(mask.shape))\n",
    "# print(mask[:50,:50])\n",
    "# mask_img = Image.fromarray(mask,'1')\n",
    "# print(\"percent of inside points: {}\".format(sum(sum(mask))/(1000*1000)))\n",
    "# mask_img.show()\n",
    "# img.show()\n"
   ]
  }
 ],
 "metadata": {
  "kernelspec": {
   "display_name": "Python [conda root]",
   "language": "python",
   "name": "conda-root-py"
  },
  "language_info": {
   "codemirror_mode": {
    "name": "ipython",
    "version": 3
   },
   "file_extension": ".py",
   "mimetype": "text/x-python",
   "name": "python",
   "nbconvert_exporter": "python",
   "pygments_lexer": "ipython3",
   "version": "3.6.2"
  }
 },
 "nbformat": 4,
 "nbformat_minor": 2
}
